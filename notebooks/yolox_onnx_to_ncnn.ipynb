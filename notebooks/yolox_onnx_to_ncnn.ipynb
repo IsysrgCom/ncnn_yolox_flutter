{
  "nbformat": 4,
  "nbformat_minor": 0,
  "metadata": {
    "colab": {
      "name": "yolox_onnx_to_ncnn.ipynb",
      "provenance": [],
      "collapsed_sections": []
    },
    "kernelspec": {
      "name": "python3",
      "display_name": "Python 3"
    },
    "language_info": {
      "name": "python"
    }
  },
  "cells": [
    {
      "cell_type": "code",
      "source": [
        "!cat /etc/os-release"
      ],
      "metadata": {
        "colab": {
          "base_uri": "https://localhost:8080/"
        },
        "id": "PobL7J2-KJ-d",
        "outputId": "e1e03db1-b3b4-4c90-9e8d-465c6da974a5"
      },
      "execution_count": null,
      "outputs": [
        {
          "output_type": "stream",
          "name": "stdout",
          "text": [
            "NAME=\"Ubuntu\"\n",
            "VERSION=\"18.04.5 LTS (Bionic Beaver)\"\n",
            "ID=ubuntu\n",
            "ID_LIKE=debian\n",
            "PRETTY_NAME=\"Ubuntu 18.04.5 LTS\"\n",
            "VERSION_ID=\"18.04\"\n",
            "HOME_URL=\"https://www.ubuntu.com/\"\n",
            "SUPPORT_URL=\"https://help.ubuntu.com/\"\n",
            "BUG_REPORT_URL=\"https://bugs.launchpad.net/ubuntu/\"\n",
            "PRIVACY_POLICY_URL=\"https://www.ubuntu.com/legal/terms-and-policies/privacy-policy\"\n",
            "VERSION_CODENAME=bionic\n",
            "UBUNTU_CODENAME=bionic\n"
          ]
        }
      ]
    },
    {
      "cell_type": "code",
      "source": [
        "!wget -q https://github.com/Tencent/ncnn/releases/download/20220216/ncnn-20220216-ubuntu-1804.zip\n",
        "!unzip -q ncnn-20220216-ubuntu-1804.zip\n",
        "\n",
        "import os\n",
        "os.environ['PATH'] += \":/content/ncnn-20220216-ubuntu-1804/bin\""
      ],
      "metadata": {
        "id": "XilScG3hMvCS"
      },
      "execution_count": null,
      "outputs": []
    },
    {
      "cell_type": "code",
      "source": [
        "!wget -q https://github.com/Megvii-BaseDetection/YOLOX/releases/download/0.1.1rc0/yolox_tiny.onnx\n",
        "\n",
        "# https://github.com/Tencent/ncnn/wiki/use-ncnn-with-pytorch-or-onnx#onnx-to-ncnn\n",
        "!onnx2ncnn \\\n",
        "  yolox_tiny.onnx \\\n",
        "  yolox.param \\\n",
        "  yolox.bin "
      ],
      "metadata": {
        "id": "D6i4YV_7NakR"
      },
      "execution_count": null,
      "outputs": []
    },
    {
      "cell_type": "markdown",
      "source": [
        "# The model needs to be manually modified\n",
        "\n",
        "A fix is needed for `yolox_tiny.param`.\n",
        "\n",
        "https://github.com/Megvii-BaseDetection/YOLOX/blob/main/demo/ncnn/cpp/README.md#step4"
      ],
      "metadata": {
        "id": "CJVQuF21Vno6"
      }
    },
    {
      "cell_type": "code",
      "source": [
        "!apt install vulkan-utils\n",
        "\n",
        "# https://github.com/Tencent/ncnn/wiki/use-ncnnoptimize-to-optimize-model\n",
        "!ncnnoptimize \\\n",
        "  yolox.param \\\n",
        "  yolox.bin \\\n",
        "  yolox-opt.param \\\n",
        "  yolox-opt.bin \\\n",
        "  65536 "
      ],
      "metadata": {
        "id": "VffOKbV8VqGb"
      },
      "execution_count": null,
      "outputs": []
    },
    {
      "cell_type": "code",
      "source": [
        "!mkdir yolox\n",
        "!cp yolox-opt.param yolox/yolox.param\n",
        "!cp yolox-opt.bin yolox/yolox.bin\n",
        "\n",
        "!zip -r yolox.zip yolox\n",
        "\n",
        "from google.colab import files\n",
        "files.download(\"yolox.zip\")"
      ],
      "metadata": {
        "id": "OnGQsOtNQpfR"
      },
      "execution_count": null,
      "outputs": []
    }
  ]
}